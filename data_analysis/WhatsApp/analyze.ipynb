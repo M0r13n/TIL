{
 "cells": [
  {
   "cell_type": "code",
   "execution_count": 9,
   "metadata": {},
   "outputs": [
    {
     "name": "stdout",
     "output_type": "stream",
     "text": [
      "Requirement already satisfied: pandas in /usr/local/lib/python3.7/site-packages (0.25.1)\r\n",
      "Requirement already satisfied: numpy>=1.13.3 in /usr/local/lib/python3.7/site-packages (from pandas) (1.17.1)\r\n",
      "Requirement already satisfied: pytz>=2017.2 in /usr/local/lib/python3.7/site-packages (from pandas) (2019.2)\r\n",
      "Requirement already satisfied: python-dateutil>=2.6.1 in /usr/local/lib/python3.7/site-packages (from pandas) (2.8.0)\r\n",
      "Requirement already satisfied: six>=1.5 in /usr/local/lib/python3.7/site-packages (from python-dateutil>=2.6.1->pandas) (1.12.0)\r\n"
     ]
    }
   ],
   "source": [
    "# Install a pip package in the current Jupyter kernel\n",
    "import sys\n",
    "!{sys.executable} -m pip install pandas"
   ]
  },
  {
   "cell_type": "code",
   "execution_count": 139,
   "metadata": {},
   "outputs": [],
   "source": [
    "import re\n",
    "import pandas as pd\n",
    "import matplotlib.pyplot as plt\n",
    "\n",
    "DATE_TIME = re.compile(r\"([(\\[]).*?([)\\]])\")\n",
    "AUTHOR = re.compile(r\"((( [a-zA-ZöäüÖÄÜ]+)+):)\")\n",
    "LTR = chr(8206)\n",
    "\n",
    "\n",
    "def to_pd_row(s):\n",
    "    match = DATE_TIME.match(s)\n",
    "    if match:\n",
    "        g = match.group(0)\n",
    "        date = g[1:9]\n",
    "        time = g[11:-1]\n",
    "        author = re.search(AUTHOR, s).group(0)[1:-1]\n",
    "        message = s.split(': ')[1]\n",
    "        return date, time, author, message.replace(\"\\n\", \"\")\n",
    "\n",
    "\n",
    "def chat():\n",
    "    filename = \"./_chat.txt\"\n",
    "    try:\n",
    "        with open(filename,newline='\\r\\n') as f:\n",
    "            for l in f.readlines():\n",
    "                yield to_pd_row(l.replace(LTR, \"\"))\n",
    "            f.close()\n",
    "    except Exception as e:\n",
    "        print(f\"Could not process {filename}, because the following error occured: {type(e).__name__}: {str(e)}\")\n",
    "\n",
    "df = pd.DataFrame(data=list(chat()), columns=[\"Date\", \"Time\", \"Author\", \"Message\"])\n",
    "\n",
    "# metrics\n",
    "df = df[pd.notnull(df['Message'])]\n",
    "df['Letter_Count'] = df['Message'].apply(lambda s : len(s))\n",
    "df['Word_Count'] = df['Message'].apply(lambda s : len(s.split(' ')))"
   ]
  },
  {
   "cell_type": "code",
   "execution_count": 140,
   "metadata": {},
   "outputs": [
    {
     "data": {
      "text/plain": [
       "<matplotlib.axes._subplots.AxesSubplot at 0x118878b10>"
      ]
     },
     "execution_count": 140,
     "metadata": {},
     "output_type": "execute_result"
    },
    {
     "data": {
      "image/png": "[encoded data removed]",
      "text/plain": [
       "<Figure size 432x288 with 1 Axes>"
      ]
     },
     "metadata": {
      "needs_background": "light"
     },
     "output_type": "display_data"
    }
   ],
   "source": [
    "picture_df = df[df['Message'].str.contains('Bild weggelassen')]\n",
    "picture_df['Author'].value_counts().plot.barh()"
   ]
  },
  {
   "cell_type": "code",
   "execution_count": 136,
   "metadata": {},
   "outputs": [
    {
     "data": {
      "text/html": [
       "<div>\n",
       "<style scoped>\n",
       "    .dataframe tbody tr th:only-of-type {\n",
       "        vertical-align: middle;\n",
       "    }\n",
       "\n",
       "    .dataframe tbody tr th {\n",
       "        vertical-align: top;\n",
       "    }\n",
       "\n",
       "    .dataframe thead th {\n",
       "        text-align: right;\n",
       "    }\n",
       "</style>\n",
       "<table border=\"1\" class=\"dataframe\">\n",
       "  <thead>\n",
       "    <tr style=\"text-align: right;\">\n",
       "      <th></th>\n",
       "      <th>Date</th>\n",
       "      <th>Time</th>\n",
       "      <th>Author</th>\n",
       "      <th>Message</th>\n",
       "      <th>Letter_Count</th>\n",
       "      <th>Word_Count</th>\n",
       "    </tr>\n",
       "  </thead>\n",
       "  <tbody>\n",
       "    <tr>\n",
       "      <td>17392</td>\n",
       "      <td>01.09.19</td>\n",
       "      <td>13:07:32</td>\n",
       "      <td>Leon Morten Richter</td>\n",
       "      <td>// Implements a dictionary's functionality#inc...</td>\n",
       "      <td>3646</td>\n",
       "      <td>1186</td>\n",
       "    </tr>\n",
       "  </tbody>\n",
       "</table>\n",
       "</div>"
      ],
      "text/plain": [
       "           Date      Time               Author  \\\n",
       "17392  01.09.19  13:07:32  Leon Morten Richter   \n",
       "\n",
       "                                                 Message  Letter_Count  \\\n",
       "17392  // Implements a dictionary's functionality#inc...          3646   \n",
       "\n",
       "       Word_Count  \n",
       "17392        1186  "
      ]
     },
     "execution_count": 136,
     "metadata": {},
     "output_type": "execute_result"
    }
   ],
   "source": [
    "df[df['Word_Count']==df['Word_Count'].max()]\n"
   ]
  },
  {
   "cell_type": "code",
   "execution_count": 141,
   "metadata": {},
   "outputs": [
    {
     "data": {
      "text/plain": [
       "<matplotlib.axes._subplots.AxesSubplot at 0x1160a5110>"
      ]
     },
     "execution_count": 141,
     "metadata": {},
     "output_type": "execute_result"
    },
    {
     "data": {
      "image/png": "[encoded data removed]",
      "text/plain": [
       "<Figure size 432x288 with 1 Axes>"
      ]
     },
     "metadata": {
      "needs_background": "light"
     },
     "output_type": "display_data"
    }
   ],
   "source": [
    "df.set_index('Date').plot()"
   ]
  }
 ],
 "metadata": {
  "kernelspec": {
   "display_name": "Python 3",
   "language": "python",
   "name": "python3"
  },
  "language_info": {
   "codemirror_mode": {
    "name": "ipython",
    "version": 3
   },
   "file_extension": ".py",
   "mimetype": "text/x-python",
   "name": "python",
   "nbconvert_exporter": "python",
   "pygments_lexer": "ipython3",
   "version": "3.7.4"
  }
 },
 "nbformat": 4,
 "nbformat_minor": 2
}
